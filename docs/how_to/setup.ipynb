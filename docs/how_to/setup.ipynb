{
 "cells": [
  {
   "cell_type": "markdown",
   "id": "4924dd92",
   "metadata": {},
   "source": [
    "# Preparation notes\n",
    "\n",
    "\n",
    "## Headless setup \n",
    "New version of mac imager doesn't seem to have this bug anymore. Notes left below in case useful.\n",
    "\n",
    "In imager chose to edit settings and ensure to go to services tab and enable ssh.\n",
    "\n",
    "if reimaging, its worth deleting .ssh known_hosts (mac: ~/.ssh/known_hosts) before trying to ssh to the pi.\n",
    "\n",
    "First boot takes a while.\n",
    "\n",
    "\n",
    "\n",
    "\n",
    "### Old imager bug\n",
    "On Mac imager didn't seem to take the settings provided and imaged the pi with defaults. If this happens and your pi is not using the hostname given, the following may help\n",
    "* connect ethernet\n",
    "* add an empty file on the Micro SD called ssh\n",
    "* add a file called userconf or userconf.txt with ```pi:encryptedpassword```\n",
    "* password can be created using ```echo raspberry | openssl passwd -6 -stdin```\n",
    "\n",
    "### Create a new user with sudo permissions\n",
    "https://forums.raspberrypi.com/viewtopic.php?t=169079\n",
    "\n",
    "```sudo adduser newusername```\n",
    "\n",
    "```sudo usermod -a -G adm,dialout,cdrom,sudo,audio,video,plugdev,games,users,input,netdev,spi,i2c,gpio newusername```\n",
    "\n",
    "/etc/lightdm/lightdm.con\n",
    "\n",
    "reboot/logout\n",
    "\n",
    "\n",
    "### Change original pi password and/or Lock the old pi user\n",
    "```passwd```\n",
    "```sudo passwd --lock pi```\n",
    "\n",
    "Ensure SSH working from Main machine to pi\n",
    "\n",
    "## Setting up for remote VS Code /cursor\n",
    "Install VS Code on the pi\n",
    "```sudo apt install code```\n",
    "\n",
    "Install Remote-SSH extension (I added it on both just in case)\n",
    "\n",
    "Ctrl-Shift-P Remote-SSH Connect to Host\n"
   ]
  },
  {
   "cell_type": "markdown",
   "id": "4262bbaa",
   "metadata": {
    "vscode": {
     "languageId": "plaintext"
    }
   },
   "source": [
    "# Python set up\n",
    "Connect to pi remotely in VS Code or run VS code on the pi\n",
    "\n",
    "Open terminal in VS Code\n",
    "\n",
    "Upgrade the python\n",
    "```sudo apt install python3```\n",
    "\n",
    "Install the \n",
    "\n",
    "Create a folder for the project\n",
    "\n",
    "```mkdir my_project```\n",
    "\n",
    "In VS code open that folder\n",
    "\n",
    "Optional, setup a virtual environment It can be called anything but .venv is the automatic bame used if VS Code creates it for you\n",
    "\n",
    "```python -m venv .venv```\n",
    "\n",
    "Create a new python file to test. VS code may ask to install the python extension, after which it should pick up the virtual environment. Test file should run.\n",
    "\n",
    "\n",
    "\n",
    "\n"
   ]
  }
 ],
 "metadata": {
  "language_info": {
   "name": "python"
  }
 },
 "nbformat": 4,
 "nbformat_minor": 5
}

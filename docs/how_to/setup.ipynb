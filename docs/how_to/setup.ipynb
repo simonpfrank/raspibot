{
 "cells": [
  {
   "cell_type": "markdown",
   "id": "4924dd92",
   "metadata": {},
   "source": [
    "\n",
    "## Headless setup issues\n",
    "On Mac imager didn't seem to take the settings provided and imaged the pi with defaults. If this happens and your pi is not using the hostname given, the following may help\n",
    "* add an empty file on the Micro SD called ssh\n",
    "* add a file called userconf or userconf.txt with ```pi:encryptedpassword```\n",
    "* password can be created using ```echo raspberry | openssl passwd -6 -stdin```\n",
    "\n",
    "### Create a new user with sudo permissions\n",
    "https://forums.raspberrypi.com/viewtopic.php?t=169079\n",
    "\n",
    "### Change original pi password and/or Lock the old pi user\n",
    "```passwd```\n",
    "```sudo passwd --lock pi```\n"
   ]
  },
  {
   "cell_type": "markdown",
   "id": "4262bbaa",
   "metadata": {
    "vscode": {
     "languageId": "plaintext"
    }
   },
   "source": [
    "## Setting up for VS Code\n",
    "Install VS Code on the pi\n",
    "```sudo apt install code```\n",
    "\n",
    "Install Remote-SSH extension (I added it on both just in case)\n",
    "\n"
   ]
  }
 ],
 "metadata": {
  "language_info": {
   "name": "python"
  }
 },
 "nbformat": 4,
 "nbformat_minor": 5
}

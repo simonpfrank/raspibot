{
 "cells": [
  {
   "cell_type": "markdown",
   "id": "4924dd92",
   "metadata": {},
   "source": [
    "# Preparation notes\n",
    "\n",
    "\n",
    "## Headless setup issues\n",
    "On Mac imager didn't seem to take the settings provided and imaged the pi with defaults. If this happens and your pi is not using the hostname given, the following may help\n",
    "* add an empty file on the Micro SD called ssh\n",
    "* add a file called userconf or userconf.txt with ```pi:encryptedpassword```\n",
    "* password can be created using ```echo raspberry | openssl passwd -6 -stdin```\n",
    "\n",
    "### Create a new user with sudo permissions\n",
    "https://forums.raspberrypi.com/viewtopic.php?t=169079\n",
    "\n",
    "### Change original pi password and/or Lock the old pi user\n",
    "```passwd```\n",
    "```sudo passwd --lock pi```\n",
    "\n",
    "Ensure SSH working from Main machine to pi\n",
    "\n",
    "## Setting up for VS Code\n",
    "Install VS Code on the pi\n",
    "```sudo apt install code```\n",
    "\n",
    "Install Remote-SSH extension (I added it on both just in case)\n",
    "\n",
    "Ctrl-Shift-P Remote-SSH Connect to Host\n"
   ]
  },
  {
   "cell_type": "markdown",
   "id": "4262bbaa",
   "metadata": {
    "vscode": {
     "languageId": "plaintext"
    }
   },
   "source": [
    "# Python set up\n",
    "Connect to pi remotely in VS Code or run VS code on the pi\n",
    "\n",
    "Open terminal in VS Code\n",
    "\n",
    "Upgrade the python\n",
    "```sudo apt install python3```\n",
    "\n",
    "Install the \n",
    "\n",
    "Create a folder for the project\n",
    "\n",
    "```mkdir my_project```\n",
    "\n",
    "In VS code open that folder\n",
    "\n",
    "Optional, setup a virtual environment It can be called anything but .venv is the automatic bame used if VS Code creates it for you\n",
    "\n",
    "```python -m venv .venv```\n",
    "\n",
    "Create a new python file to test. VS code may ask to install the python extension, after which it should pick up the virtual environment. Test file should run.\n",
    "\n",
    "\n",
    "\n",
    "\n"
   ]
  }
 ],
 "metadata": {
  "language_info": {
   "name": "python"
  }
 },
 "nbformat": 4,
 "nbformat_minor": 5
}

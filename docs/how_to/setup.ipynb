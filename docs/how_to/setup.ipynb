{
 "cells": [
  {
   "cell_type": "markdown",
   "id": "4924dd92",
   "metadata": {},
   "source": [
    "## New Pi\n",
    "Follow instructions on \n",
    "##F inding the pi if booting headless\n",
    "https://raspberrypi.stackexchange.com/questions/13936/find-raspberry-pi-address-on-local-network\n"
   ]
  }
 ],
 "metadata": {
  "language_info": {
   "name": "python"
  }
 },
 "nbformat": 4,
 "nbformat_minor": 5
}
